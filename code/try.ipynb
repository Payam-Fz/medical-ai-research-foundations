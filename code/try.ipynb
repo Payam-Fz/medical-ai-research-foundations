{
 "cells": [
  {
   "cell_type": "code",
   "execution_count": null,
   "id": "cbb91e42-06b2-4e0d-8d77-d6ad777fe9b8",
   "metadata": {},
   "outputs": [],
   "source": [
    "import tensorflow_hub as hub\n",
    "\n",
    "module = hub.load('TOP_LEVEL_HUB_PATH')\n",
    "\n",
    "# Pathology: The image is of shape (<BATCH_SIZE>, 224, 224, 3)\n",
    "# Chest X-Ray: The image is of shape (<BATCH_SIZE>, 448, 448, 3)\n",
    "image = <LOAD_IMAGE_HERE>\n",
    "\n",
    "embedding_of_image = module(image)"
   ]
  }
 ],
 "metadata": {
  "kernelspec": {
   "display_name": "Python 3 (ipykernel)",
   "language": "python",
   "name": "python3"
  },
  "language_info": {
   "codemirror_mode": {
    "name": "ipython",
    "version": 3
   },
   "file_extension": ".py",
   "mimetype": "text/x-python",
   "name": "python",
   "nbconvert_exporter": "python",
   "pygments_lexer": "ipython3",
   "version": "3.11.5"
  }
 },
 "nbformat": 4,
 "nbformat_minor": 5
}
