{
 "cells": [
  {
   "cell_type": "code",
   "execution_count": null,
   "id": "cbb91e42-06b2-4e0d-8d77-d6ad777fe9b8",
   "metadata": {},
   "outputs": [],
   "source": [
    "import tensorflow_hub as hub\n",
    "\n",
    "module = hub.load('TOP_LEVEL_HUB_PATH')\n",
    "\n",
    "# Pathology: The image is of shape (<BATCH_SIZE>, 224, 224, 3)\n",
    "# Chest X-Ray: The image is of shape (<BATCH_SIZE>, 448, 448, 3)\n",
    "image = <LOAD_IMAGE_HERE>\n",
    "\n",
    "embedding_of_image = module(image)"
   ]
  },
  {
   "cell_type": "code",
   "execution_count": 10,
   "id": "e2590c0c-818a-4e37-820e-f3a8dad7aaa9",
   "metadata": {},
   "outputs": [
    {
     "name": "stderr",
     "output_type": "stream",
     "text": [
      "Traceback (most recent call last):\n",
      "  File \"C:\\Users\\payam\\Workspace\\UBC\\Research\\REMEDIS\\code\\run.py\", line 22, in <module>\n",
      "    import data as data_lib\n",
      "  File \"C:\\Users\\payam\\Workspace\\UBC\\Research\\REMEDIS\\code\\data.py\", line 21, in <module>\n",
      "    import data_util\n",
      "  File \"C:\\Users\\payam\\Workspace\\UBC\\Research\\REMEDIS\\code\\data_util.py\", line 22, in <module>\n",
      "    from tensorflow_addons.image import transform_ops as transform_oparator\n",
      "ModuleNotFoundError: No module named 'tensorflow_addons'\n"
     ]
    }
   ],
   "source": [
    "!python run.py --train_mode=pretrain \\\n",
    "  --train_batch_size=1024 --train_epochs=1000 \\\n",
    "  --learning_rate=0.3 --weight_decay=1e-6 --temperature=0.1 \\\n",
    "  --dataset=cifar10 --image_size=224 --eval_split=test --resnet_depth=18 \\\n",
    "  --use_blur=True --color_jitter_strength=1.0 \\\n",
    "  --model_dir= out/my-models --use_tpu=False"
   ]
  },
  {
   "cell_type": "code",
   "execution_count": null,
   "id": "29beb5bf-9ee4-4f27-8242-39f78e27f843",
   "metadata": {},
   "outputs": [],
   "source": []
  }
 ],
 "metadata": {
  "kernelspec": {
   "display_name": "Python 3 (ipykernel)",
   "language": "python",
   "name": "python3"
  },
  "language_info": {
   "codemirror_mode": {
    "name": "ipython",
    "version": 3
   },
   "file_extension": ".py",
   "mimetype": "text/x-python",
   "name": "python",
   "nbconvert_exporter": "python",
   "pygments_lexer": "ipython3",
   "version": "3.10.0"
  }
 },
 "nbformat": 4,
 "nbformat_minor": 5
}
